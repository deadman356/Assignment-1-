{
  "nbformat": 4,
  "nbformat_minor": 0,
  "metadata": {
    "colab": {
      "provenance": [],
      "authorship_tag": "ABX9TyPlASqxVPPYB/HLceYBcjes",
      "include_colab_link": true
    },
    "kernelspec": {
      "name": "python3",
      "display_name": "Python 3"
    },
    "language_info": {
      "name": "python"
    }
  },
  "cells": [
    {
      "cell_type": "markdown",
      "metadata": {
        "id": "view-in-github",
        "colab_type": "text"
      },
      "source": [
        "<a href=\"https://colab.research.google.com/github/deadman356/Assignment-1-/blob/main/Assignment_1.ipynb\" target=\"_parent\"><img src=\"https://colab.research.google.com/assets/colab-badge.svg\" alt=\"Open In Colab\"/></a>"
      ]
    },
    {
      "cell_type": "markdown",
      "source": [
        "Q1.LIST OPERATIONS (i-xii)"
      ],
      "metadata": {
        "id": "PDwwSJN6Rm2X"
      }
    },
    {
      "cell_type": "code",
      "execution_count": 1,
      "metadata": {
        "colab": {
          "base_uri": "https://localhost:8080/"
        },
        "id": "dDqECaL1PX_B",
        "outputId": "a7cb8515-d66f-4988-df5c-0455c0a875ac"
      },
      "outputs": [
        {
          "output_type": "stream",
          "name": "stdout",
          "text": [
            "After adding: [11, 12, 13, 14, 50, 60]\n",
            "After removing 11,13 [12, 14, 50, 60]\n",
            "Sorted ascending: [12, 14, 50, 60]\n",
            "Sorted descending,sorted [60, 50, 14, 12]\n",
            "is 13 in L False\n",
            "Length of L: 4\n",
            "Sum of L: 136\n",
            "Sum of odd numbers: 0\n",
            "Sum of even numbers: 136\n",
            "After clearing L: []\n"
          ]
        }
      ],
      "source": [
        "L = [11,12,13,14]\n",
        "#(i)\n",
        "L.extend([50,60])\n",
        "print(\"After adding:\",L)\n",
        "\n",
        "#(ii)\n",
        "L.remove(11)\n",
        "L.remove(13)\n",
        "print(\"After removing 11,13\",L)\n",
        "\n",
        "#(iii)\n",
        "print(\"Sorted ascending:\",sorted(L))\n",
        "\n",
        "#(iv)\n",
        "print(\"Sorted descending,sorted\",sorted(L,reverse=True))\n",
        "\n",
        "#(v)\n",
        "print(\"is 13 in L\",13 in L)\n",
        "\n",
        "#(vi)\n",
        "print(\"Length of L:\",len(L))\n",
        "\n",
        "#(vii)\n",
        "print(\"Sum of L:\",sum(L))\n",
        "\n",
        "#(viii)\n",
        "print(\"Sum of odd numbers:\",sum(i for i in L if i % 2!=0 ))\n",
        "\n",
        "#(ix)\n",
        "print(\"Sum of even numbers:\",sum(i for i in L if i % 2 == 0))\n",
        "\n",
        "#(x)\n",
        "def is_prime(n):\n",
        "  return n>1 and all(n % i !=0 for i in range(2,\n",
        "  int(n**0.5)+1))\n",
        "  print(\"Sum of prime numbers:\",sum(i for i in L if is_prime(i)))\n",
        "\n",
        "#(xi)\n",
        "L.clear()\n",
        "print(\"After clearing L:\",L)\n",
        "\n",
        "#(xii)\n",
        "del L"
      ]
    },
    {
      "cell_type": "markdown",
      "source": [
        "Q2.DICTIONARY OPERATION (i-vii)"
      ],
      "metadata": {
        "id": "YWii1lUwRttb"
      }
    },
    {
      "cell_type": "code",
      "source": [
        "D = {1:5.6,2:7.8,3:6.6,4:8.7,5:7.7}\n",
        "\n",
        "#(i)\n",
        "D[8]=8.8\n",
        "print(D)\n",
        "\n",
        "#(ii)\n",
        "D.pop(2,None)\n",
        "print(D)\n",
        "\n",
        "#(iii)\n",
        "print(\"is key 6 present?\",6 in D)\n",
        "\n",
        "\n",
        "#(iv)\n",
        "print(\"number of element:\",len(D))\n",
        "\n",
        "#(v)\n",
        "print(\"sum of values:\",sum(D.values()))\n",
        "\n",
        "#(vi)\n",
        "D[3]=7.1\n",
        "print(D)\n",
        "\n",
        "#(vii)\n",
        "D.clear()"
      ],
      "metadata": {
        "colab": {
          "base_uri": "https://localhost:8080/"
        },
        "id": "TXHZSHUhQIJ2",
        "outputId": "bfe9b135-fb37-4a1f-e55f-c1702ce5945d"
      },
      "execution_count": 2,
      "outputs": [
        {
          "output_type": "stream",
          "name": "stdout",
          "text": [
            "{1: 5.6, 2: 7.8, 3: 6.6, 4: 8.7, 5: 7.7, 8: 8.8}\n",
            "{1: 5.6, 3: 6.6, 4: 8.7, 5: 7.7, 8: 8.8}\n",
            "is key 6 present? False\n",
            "number of element: 5\n",
            "sum of values: 37.4\n",
            "{1: 5.6, 3: 7.1, 4: 8.7, 5: 7.7, 8: 8.8}\n"
          ]
        }
      ]
    },
    {
      "cell_type": "markdown",
      "source": [
        "Q3. Set operations (i-vi)"
      ],
      "metadata": {
        "id": "Jhq15DTSRyZw"
      }
    },
    {
      "cell_type": "code",
      "source": [
        "s1={10,20,30,40,50,60}\n",
        "s2={40,50,60,70,80,90}\n",
        "\n",
        "#(i)\n",
        "s1.update([55,66])\n",
        "\n",
        "#(ii)\n",
        "s1.discard(10)\n",
        "s1.discard(30)\n",
        "\n",
        "#(iii)\n",
        "print(\"is 40 in s1?\", 40 in s1)\n",
        "\n",
        "#(iv)\n",
        "print(\"Union\",s1.union(s2))\n",
        "\n",
        "\n",
        "\n",
        "#(v)\n",
        "print(\"Intersection:\",s1.intersection(s2))\n",
        "\n",
        "#(vi)\n",
        "print(\"s1-s2:\",s1.difference(s2))"
      ],
      "metadata": {
        "colab": {
          "base_uri": "https://localhost:8080/"
        },
        "id": "RTwjCVuEQQ73",
        "outputId": "aea6f0ef-9f72-431e-b0ae-b86bbcb22f74"
      },
      "execution_count": 3,
      "outputs": [
        {
          "output_type": "stream",
          "name": "stdout",
          "text": [
            "is 40 in s1? True\n",
            "Union {66, 70, 40, 80, 50, 20, 55, 90, 60}\n",
            "Intersection: {40, 50, 60}\n",
            "s1-s2: {66, 20, 55}\n"
          ]
        }
      ]
    },
    {
      "cell_type": "markdown",
      "source": [
        "Q4. write the following programs (i-iii)"
      ],
      "metadata": {
        "id": "-RduxEvwR3Tl"
      }
    },
    {
      "cell_type": "code",
      "source": [
        "import random\n",
        "import string\n",
        "\n",
        "#(i)\n",
        "for _ in range (100):\n",
        "  print(\".join(random.choices(string.ascii_letters,k=random.randit(6,8)))\")\n",
        "\n",
        "#(ii)\n",
        "for num in range (600,800):\n",
        "  if is_prime(num):\n",
        "    print (num)\n",
        "\n",
        "#(iii)\n",
        "for num in range(100,1001):\n",
        "  if num % 7 == 0 and num % 9 == 0:\n",
        "    print(num)"
      ],
      "metadata": {
        "colab": {
          "base_uri": "https://localhost:8080/"
        },
        "id": "GBhNwboZQUxt",
        "outputId": "c821d558-58ce-42fb-e8cb-6a34547c6baf"
      },
      "execution_count": 4,
      "outputs": [
        {
          "output_type": "stream",
          "name": "stdout",
          "text": [
            ".join(random.choices(string.ascii_letters,k=random.randit(6,8)))\n",
            ".join(random.choices(string.ascii_letters,k=random.randit(6,8)))\n",
            ".join(random.choices(string.ascii_letters,k=random.randit(6,8)))\n",
            ".join(random.choices(string.ascii_letters,k=random.randit(6,8)))\n",
            ".join(random.choices(string.ascii_letters,k=random.randit(6,8)))\n",
            ".join(random.choices(string.ascii_letters,k=random.randit(6,8)))\n",
            ".join(random.choices(string.ascii_letters,k=random.randit(6,8)))\n",
            ".join(random.choices(string.ascii_letters,k=random.randit(6,8)))\n",
            ".join(random.choices(string.ascii_letters,k=random.randit(6,8)))\n",
            ".join(random.choices(string.ascii_letters,k=random.randit(6,8)))\n",
            ".join(random.choices(string.ascii_letters,k=random.randit(6,8)))\n",
            ".join(random.choices(string.ascii_letters,k=random.randit(6,8)))\n",
            ".join(random.choices(string.ascii_letters,k=random.randit(6,8)))\n",
            ".join(random.choices(string.ascii_letters,k=random.randit(6,8)))\n",
            ".join(random.choices(string.ascii_letters,k=random.randit(6,8)))\n",
            ".join(random.choices(string.ascii_letters,k=random.randit(6,8)))\n",
            ".join(random.choices(string.ascii_letters,k=random.randit(6,8)))\n",
            ".join(random.choices(string.ascii_letters,k=random.randit(6,8)))\n",
            ".join(random.choices(string.ascii_letters,k=random.randit(6,8)))\n",
            ".join(random.choices(string.ascii_letters,k=random.randit(6,8)))\n",
            ".join(random.choices(string.ascii_letters,k=random.randit(6,8)))\n",
            ".join(random.choices(string.ascii_letters,k=random.randit(6,8)))\n",
            ".join(random.choices(string.ascii_letters,k=random.randit(6,8)))\n",
            ".join(random.choices(string.ascii_letters,k=random.randit(6,8)))\n",
            ".join(random.choices(string.ascii_letters,k=random.randit(6,8)))\n",
            ".join(random.choices(string.ascii_letters,k=random.randit(6,8)))\n",
            ".join(random.choices(string.ascii_letters,k=random.randit(6,8)))\n",
            ".join(random.choices(string.ascii_letters,k=random.randit(6,8)))\n",
            ".join(random.choices(string.ascii_letters,k=random.randit(6,8)))\n",
            ".join(random.choices(string.ascii_letters,k=random.randit(6,8)))\n",
            ".join(random.choices(string.ascii_letters,k=random.randit(6,8)))\n",
            ".join(random.choices(string.ascii_letters,k=random.randit(6,8)))\n",
            ".join(random.choices(string.ascii_letters,k=random.randit(6,8)))\n",
            ".join(random.choices(string.ascii_letters,k=random.randit(6,8)))\n",
            ".join(random.choices(string.ascii_letters,k=random.randit(6,8)))\n",
            ".join(random.choices(string.ascii_letters,k=random.randit(6,8)))\n",
            ".join(random.choices(string.ascii_letters,k=random.randit(6,8)))\n",
            ".join(random.choices(string.ascii_letters,k=random.randit(6,8)))\n",
            ".join(random.choices(string.ascii_letters,k=random.randit(6,8)))\n",
            ".join(random.choices(string.ascii_letters,k=random.randit(6,8)))\n",
            ".join(random.choices(string.ascii_letters,k=random.randit(6,8)))\n",
            ".join(random.choices(string.ascii_letters,k=random.randit(6,8)))\n",
            ".join(random.choices(string.ascii_letters,k=random.randit(6,8)))\n",
            ".join(random.choices(string.ascii_letters,k=random.randit(6,8)))\n",
            ".join(random.choices(string.ascii_letters,k=random.randit(6,8)))\n",
            ".join(random.choices(string.ascii_letters,k=random.randit(6,8)))\n",
            ".join(random.choices(string.ascii_letters,k=random.randit(6,8)))\n",
            ".join(random.choices(string.ascii_letters,k=random.randit(6,8)))\n",
            ".join(random.choices(string.ascii_letters,k=random.randit(6,8)))\n",
            ".join(random.choices(string.ascii_letters,k=random.randit(6,8)))\n",
            ".join(random.choices(string.ascii_letters,k=random.randit(6,8)))\n",
            ".join(random.choices(string.ascii_letters,k=random.randit(6,8)))\n",
            ".join(random.choices(string.ascii_letters,k=random.randit(6,8)))\n",
            ".join(random.choices(string.ascii_letters,k=random.randit(6,8)))\n",
            ".join(random.choices(string.ascii_letters,k=random.randit(6,8)))\n",
            ".join(random.choices(string.ascii_letters,k=random.randit(6,8)))\n",
            ".join(random.choices(string.ascii_letters,k=random.randit(6,8)))\n",
            ".join(random.choices(string.ascii_letters,k=random.randit(6,8)))\n",
            ".join(random.choices(string.ascii_letters,k=random.randit(6,8)))\n",
            ".join(random.choices(string.ascii_letters,k=random.randit(6,8)))\n",
            ".join(random.choices(string.ascii_letters,k=random.randit(6,8)))\n",
            ".join(random.choices(string.ascii_letters,k=random.randit(6,8)))\n",
            ".join(random.choices(string.ascii_letters,k=random.randit(6,8)))\n",
            ".join(random.choices(string.ascii_letters,k=random.randit(6,8)))\n",
            ".join(random.choices(string.ascii_letters,k=random.randit(6,8)))\n",
            ".join(random.choices(string.ascii_letters,k=random.randit(6,8)))\n",
            ".join(random.choices(string.ascii_letters,k=random.randit(6,8)))\n",
            ".join(random.choices(string.ascii_letters,k=random.randit(6,8)))\n",
            ".join(random.choices(string.ascii_letters,k=random.randit(6,8)))\n",
            ".join(random.choices(string.ascii_letters,k=random.randit(6,8)))\n",
            ".join(random.choices(string.ascii_letters,k=random.randit(6,8)))\n",
            ".join(random.choices(string.ascii_letters,k=random.randit(6,8)))\n",
            ".join(random.choices(string.ascii_letters,k=random.randit(6,8)))\n",
            ".join(random.choices(string.ascii_letters,k=random.randit(6,8)))\n",
            ".join(random.choices(string.ascii_letters,k=random.randit(6,8)))\n",
            ".join(random.choices(string.ascii_letters,k=random.randit(6,8)))\n",
            ".join(random.choices(string.ascii_letters,k=random.randit(6,8)))\n",
            ".join(random.choices(string.ascii_letters,k=random.randit(6,8)))\n",
            ".join(random.choices(string.ascii_letters,k=random.randit(6,8)))\n",
            ".join(random.choices(string.ascii_letters,k=random.randit(6,8)))\n",
            ".join(random.choices(string.ascii_letters,k=random.randit(6,8)))\n",
            ".join(random.choices(string.ascii_letters,k=random.randit(6,8)))\n",
            ".join(random.choices(string.ascii_letters,k=random.randit(6,8)))\n",
            ".join(random.choices(string.ascii_letters,k=random.randit(6,8)))\n",
            ".join(random.choices(string.ascii_letters,k=random.randit(6,8)))\n",
            ".join(random.choices(string.ascii_letters,k=random.randit(6,8)))\n",
            ".join(random.choices(string.ascii_letters,k=random.randit(6,8)))\n",
            ".join(random.choices(string.ascii_letters,k=random.randit(6,8)))\n",
            ".join(random.choices(string.ascii_letters,k=random.randit(6,8)))\n",
            ".join(random.choices(string.ascii_letters,k=random.randit(6,8)))\n",
            ".join(random.choices(string.ascii_letters,k=random.randit(6,8)))\n",
            ".join(random.choices(string.ascii_letters,k=random.randit(6,8)))\n",
            ".join(random.choices(string.ascii_letters,k=random.randit(6,8)))\n",
            ".join(random.choices(string.ascii_letters,k=random.randit(6,8)))\n",
            ".join(random.choices(string.ascii_letters,k=random.randit(6,8)))\n",
            ".join(random.choices(string.ascii_letters,k=random.randit(6,8)))\n",
            ".join(random.choices(string.ascii_letters,k=random.randit(6,8)))\n",
            ".join(random.choices(string.ascii_letters,k=random.randit(6,8)))\n",
            ".join(random.choices(string.ascii_letters,k=random.randit(6,8)))\n",
            ".join(random.choices(string.ascii_letters,k=random.randit(6,8)))\n",
            "601\n",
            "607\n",
            "613\n",
            "617\n",
            "619\n",
            "631\n",
            "641\n",
            "643\n",
            "647\n",
            "653\n",
            "659\n",
            "661\n",
            "673\n",
            "677\n",
            "683\n",
            "691\n",
            "701\n",
            "709\n",
            "719\n",
            "727\n",
            "733\n",
            "739\n",
            "743\n",
            "751\n",
            "757\n",
            "761\n",
            "769\n",
            "773\n",
            "787\n",
            "797\n",
            "126\n",
            "189\n",
            "252\n",
            "315\n",
            "378\n",
            "441\n",
            "504\n",
            "567\n",
            "630\n",
            "693\n",
            "756\n",
            "819\n",
            "882\n",
            "945\n"
          ]
        }
      ]
    },
    {
      "cell_type": "markdown",
      "source": [
        "Q5.wap to create 2 list of 10 random numbers between 10 and 30 :find (i-v)"
      ],
      "metadata": {
        "id": "YMMNKB_JR8AL"
      }
    },
    {
      "cell_type": "code",
      "source": [
        "list1 =[random.randint(10,30)for _ in range(10) ]\n",
        "list2 =[random.randint(10,30)for _ in range(10)]\n",
        "\n",
        "print(\"Common:\", set(list1) & set(list2))\n",
        "print(\"Uunique:\",set(list1)^ set(list2))\n",
        "print(\"Min1:\",min(list1),\"Min2\",min(list2))\n",
        "print(\"Max1:\",max(list1),\"Max2\",max(list2))\n",
        "print(\"Sum1:\",sum(list1),\"Sum2\",sum(list2))\n"
      ],
      "metadata": {
        "colab": {
          "base_uri": "https://localhost:8080/"
        },
        "id": "5LpWu4YfQZ_2",
        "outputId": "013bcd94-ec02-42ae-a22c-37d94c2fc2e5"
      },
      "execution_count": 5,
      "outputs": [
        {
          "output_type": "stream",
          "name": "stdout",
          "text": [
            "Common: {10, 14}\n",
            "Uunique: {11, 12, 13, 15, 16, 19, 20, 21, 22, 23, 24, 25, 26, 27}\n",
            "Min1: 10 Min2 10\n",
            "Max1: 22 Max2 27\n",
            "Sum1: 168 Sum2 189\n"
          ]
        }
      ]
    },
    {
      "cell_type": "markdown",
      "source": [
        "Q6.wap to create list of 100 random numbers between 100 to 900.(i-iii)"
      ],
      "metadata": {
        "id": "CuVtZ9XpSBUx"
      }
    },
    {
      "cell_type": "code",
      "source": [
        "nums=[random.randint(100,900)for _ in range(100)]\n",
        "\n",
        "print(\"odd numbers:\",[n for n in nums if n % 2!=0])\n",
        "print(\"even numbers:\",[n for n in nums if n % 2 == 0])\n",
        "print(\"prime numbers:\",[n for n in nums if is_prime(n)])"
      ],
      "metadata": {
        "colab": {
          "base_uri": "https://localhost:8080/"
        },
        "id": "0vo0SBbPQgri",
        "outputId": "6e5ae672-1dbe-4e81-c7e6-efaf2316ceea"
      },
      "execution_count": 6,
      "outputs": [
        {
          "output_type": "stream",
          "name": "stdout",
          "text": [
            "odd numbers: [897, 601, 877, 543, 157, 599, 561, 123, 145, 371, 633, 167, 511, 161, 499, 183, 357, 737, 689, 735, 315, 363, 259, 465, 829, 329, 571, 503, 881, 401, 657, 139, 633, 241, 341, 243, 687, 425, 117, 473, 129, 287, 255, 171, 503, 257, 679, 463, 487, 533, 147, 709, 659, 327, 409, 445]\n",
            "even numbers: [852, 836, 460, 618, 592, 674, 640, 418, 358, 724, 834, 234, 410, 534, 362, 324, 688, 892, 212, 740, 550, 812, 836, 878, 876, 492, 560, 254, 622, 482, 356, 408, 620, 380, 646, 204, 328, 744, 702, 276, 886, 430, 268, 800]\n",
            "prime numbers: [601, 877, 157, 599, 167, 499, 829, 571, 503, 881, 401, 139, 241, 503, 257, 463, 487, 709, 659, 409]\n"
          ]
        }
      ]
    },
    {
      "cell_type": "markdown",
      "source": [
        "Q7. write dictionary to file"
      ],
      "metadata": {
        "id": "dCd3bLt1SIys"
      }
    },
    {
      "cell_type": "code",
      "source": [
        "D = {1:\"one\",2:\"two\",3:\"three\",4:\"four\",5:\"five\"}\n",
        "with open(\"dict_output.txt\",\"w\")as f:\n",
        "  for k,v in D.items():\n",
        "    f.write(f\"{k}, {v}\\n\")"
      ],
      "metadata": {
        "id": "68G_jgUBQlzr"
      },
      "execution_count": 9,
      "outputs": []
    },
    {
      "cell_type": "markdown",
      "source": [
        "Q8. list word len to file"
      ],
      "metadata": {
        "id": "_jBB9rvvSMzv"
      }
    },
    {
      "cell_type": "code",
      "source": [
        "l=[\"one\",\"two\",\"three\",\"four\",\"five\"]\n",
        "with open(\"list_lengths.txt\",\"w\") as f:\n",
        "  for word in l:\n",
        "    f.write(f\"{word},{len(word)}\\n\")\n",
        ""
      ],
      "metadata": {
        "id": "cN6HPsphQqvm"
      },
      "execution_count": 10,
      "outputs": []
    },
    {
      "cell_type": "markdown",
      "source": [
        "Q9. 100 random strings to file"
      ],
      "metadata": {
        "id": "iap2Ph1ISP7T"
      }
    },
    {
      "cell_type": "code",
      "source": [
        "with open(\"random_strings.txt\",\"w\")as f:\n",
        "  for _ in range(100):\n",
        "    s = \".join(random.choices(string.ascii_letters, k=random.randint(10,15)))\"\n",
        "    f.write(s+'\\n')"
      ],
      "metadata": {
        "id": "riJLv1-VQt7h"
      },
      "execution_count": 11,
      "outputs": []
    },
    {
      "cell_type": "markdown",
      "source": [
        "Q10. prime numbers to file"
      ],
      "metadata": {
        "id": "tozRQyj_SS9Q"
      }
    },
    {
      "cell_type": "code",
      "source": [
        "with open(\"prime_600_800.txt\",\"w\")as f:\n",
        "  for num in range(600,801):\n",
        "    if is_prime(num):\n",
        "      f.write(str(num)+'\\n')\n",
        ""
      ],
      "metadata": {
        "id": "vjXxACK8Qwwz"
      },
      "execution_count": 12,
      "outputs": []
    },
    {
      "cell_type": "markdown",
      "source": [
        "Q11. time taken by program"
      ],
      "metadata": {
        "id": "BzLksjEtSWkk"
      }
    },
    {
      "cell_type": "code",
      "source": [
        "import time\n",
        "start = time.time()\n",
        "sum(range(100000))\n",
        "end = time.time()\n",
        "print(\"Time taken:\",end - start)"
      ],
      "metadata": {
        "colab": {
          "base_uri": "https://localhost:8080/"
        },
        "id": "Whp8pqdZQyCS",
        "outputId": "e6f74dce-c54f-4bce-9cc9-f68d83f47346"
      },
      "execution_count": 13,
      "outputs": [
        {
          "output_type": "stream",
          "name": "stdout",
          "text": [
            "Time taken: 0.0017807483673095703\n"
          ]
        }
      ]
    },
    {
      "cell_type": "markdown",
      "source": [
        "Q12. sort time graph"
      ],
      "metadata": {
        "id": "o7dazMFaSbB_"
      }
    },
    {
      "cell_type": "code",
      "source": [
        "import seaborn as sns\n",
        "sns.set()\n",
        "\n",
        "plt.bar([str(s) for s in sizes], time_taken,\n",
        "        color='skyblue')\n",
        "plt.xlabel(\"number of elements\")\n",
        "plt.ylabel(\"time (seconds)\")\n",
        "plt.title(\"time taken for sorting different list sizes\")\n",
        "plt.show()"
      ],
      "metadata": {
        "colab": {
          "base_uri": "https://localhost:8080/",
          "height": 211
        },
        "id": "IE7AXyz_Q35W",
        "outputId": "18d49c50-8757-4ce3-9291-552e2eaff763"
      },
      "execution_count": 19,
      "outputs": [
        {
          "output_type": "error",
          "ename": "NameError",
          "evalue": "name 'sizes' is not defined",
          "traceback": [
            "\u001b[0;31m---------------------------------------------------------------------------\u001b[0m",
            "\u001b[0;31mNameError\u001b[0m                                 Traceback (most recent call last)",
            "\u001b[0;32m<ipython-input-19-1165976966>\u001b[0m in \u001b[0;36m<cell line: 0>\u001b[0;34m()\u001b[0m\n\u001b[1;32m      2\u001b[0m \u001b[0msns\u001b[0m\u001b[0;34m.\u001b[0m\u001b[0mset\u001b[0m\u001b[0;34m(\u001b[0m\u001b[0;34m)\u001b[0m\u001b[0;34m\u001b[0m\u001b[0;34m\u001b[0m\u001b[0m\n\u001b[1;32m      3\u001b[0m \u001b[0;34m\u001b[0m\u001b[0m\n\u001b[0;32m----> 4\u001b[0;31m plt.bar([str(s) for s in sizes], time_taken,\n\u001b[0m\u001b[1;32m      5\u001b[0m         color='skyblue')\n\u001b[1;32m      6\u001b[0m \u001b[0mplt\u001b[0m\u001b[0;34m.\u001b[0m\u001b[0mxlabel\u001b[0m\u001b[0;34m(\u001b[0m\u001b[0;34m\"number of elements\"\u001b[0m\u001b[0;34m)\u001b[0m\u001b[0;34m\u001b[0m\u001b[0;34m\u001b[0m\u001b[0m\n",
            "\u001b[0;31mNameError\u001b[0m: name 'sizes' is not defined"
          ]
        }
      ]
    },
    {
      "cell_type": "markdown",
      "source": [
        "Q13. student marks dictionary"
      ],
      "metadata": {
        "id": "yZ2Wd1APSe8S"
      }
    },
    {
      "cell_type": "code",
      "source": [
        "students = {\n",
        "    \"A\":[87,90,78,88,92],\n",
        "    \"B\":[70,65,80,75,68],\n",
        "    \"C\":[95,92,88,91,94],\n",
        "}\n",
        "average = {k:sum(v)/len(v) for k, v in\n",
        "students.items() }\n",
        "max_student= max(average,key=average.get)\n",
        "min_student= min(average,key=average.get)\n",
        "\n",
        "print(\"max Avg:\",max_student,\n",
        "average[max_student])\n",
        "print(\"min Avg:\",min_student,average[min_student])"
      ],
      "metadata": {
        "colab": {
          "base_uri": "https://localhost:8080/"
        },
        "id": "beFaLFgGRjpG",
        "outputId": "5f6a5341-668c-4450-ad7c-1cba9c29714d"
      },
      "execution_count": 20,
      "outputs": [
        {
          "output_type": "stream",
          "name": "stdout",
          "text": [
            "max Avg: C 92.0\n",
            "min Avg: B 71.6\n"
          ]
        }
      ]
    }
  ]
}